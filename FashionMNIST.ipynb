{
  "cells": [
    {
      "cell_type": "markdown",
      "metadata": {
        "id": "view-in-github",
        "colab_type": "text"
      },
      "source": [
        "<a href=\"https://colab.research.google.com/github/kaiyiyu/MachineLearning/blob/main/FashionMNIST.ipynb\" target=\"_parent\"><img src=\"https://colab.research.google.com/assets/colab-badge.svg\" alt=\"Open In Colab\"/></a>"
      ]
    },
    {
      "cell_type": "markdown",
      "source": [
        "#[SOURCE CODE] FashionMNIST.ipynb\n",
        "Link to Colab: https://colab.research.google.com/drive/1-nsccEpKXelyqC0Wtc2QEgy7pnwMwjlv?usp=sharing"
      ],
      "metadata": {
        "id": "qeCtaxSG0_Wr"
      },
      "id": "qeCtaxSG0_Wr"
    },
    {
      "cell_type": "markdown",
      "source": [
        "This code was adapted from the following template:\n",
        "https://d2l.ai/chapter_convolutional-modern/resnet.html"
      ],
      "metadata": {
        "id": "J-7kw8e7z5BP"
      },
      "id": "J-7kw8e7z5BP"
    },
    {
      "cell_type": "code",
      "execution_count": null,
      "id": "0a37f339",
      "metadata": {
        "id": "0a37f339"
      },
      "outputs": [],
      "source": [
        "!pip install d2l==v1.0.0-alpha1.post0"
      ]
    },
    {
      "cell_type": "code",
      "execution_count": null,
      "id": "63d2c1c3",
      "metadata": {
        "execution": {
          "iopub.execute_input": "2023-02-10T05:12:37.626779Z",
          "iopub.status.busy": "2023-02-10T05:12:37.625765Z",
          "iopub.status.idle": "2023-02-10T05:12:40.781152Z",
          "shell.execute_reply": "2023-02-10T05:12:40.778614Z"
        },
        "origin_pos": 3,
        "tab": [
          "pytorch"
        ],
        "id": "63d2c1c3"
      },
      "outputs": [],
      "source": [
        "import time\n",
        "import torch\n",
        "from torch import nn\n",
        "from torch.nn import functional as F\n",
        "from d2l import torch as d2l"
      ]
    },
    {
      "cell_type": "code",
      "execution_count": null,
      "id": "378367c8",
      "metadata": {
        "execution": {
          "iopub.execute_input": "2023-02-10T05:12:40.790182Z",
          "iopub.status.busy": "2023-02-10T05:12:40.788722Z",
          "iopub.status.idle": "2023-02-10T05:12:40.917437Z",
          "shell.execute_reply": "2023-02-10T05:12:40.909948Z"
        },
        "origin_pos": 8,
        "tab": [
          "pytorch"
        ],
        "id": "378367c8"
      },
      "outputs": [],
      "source": [
        "class Residual(nn.Module):\n",
        "    \"\"\"The Residual block of ResNet models.\"\"\"\n",
        "    def __init__(self, num_channels, use_1x1conv=False, strides=1):\n",
        "        super().__init__()\n",
        "        self.conv1 = nn.LazyConv2d(num_channels, kernel_size=3, padding=1,\n",
        "                                   stride=strides)\n",
        "        self.conv2 = nn.LazyConv2d(num_channels, kernel_size=3, padding=1)\n",
        "        if use_1x1conv:\n",
        "            self.conv3 = nn.LazyConv2d(num_channels, kernel_size=1,\n",
        "                                       stride=strides)\n",
        "        else:\n",
        "            self.conv3 = None\n",
        "        self.bn1 = nn.LazyBatchNorm2d()\n",
        "        self.bn2 = nn.LazyBatchNorm2d()\n",
        "\n",
        "    def forward(self, X):\n",
        "        Y = F.relu(self.bn1(self.conv1(X)))\n",
        "        Y = self.bn2(self.conv2(Y))\n",
        "        if self.conv3:\n",
        "            X = self.conv3(X)\n",
        "        Y += X\n",
        "        return F.relu(Y)"
      ]
    },
    {
      "cell_type": "code",
      "execution_count": null,
      "id": "1ace4302",
      "metadata": {
        "execution": {
          "iopub.execute_input": "2023-02-10T05:12:40.926553Z",
          "iopub.status.busy": "2023-02-10T05:12:40.924047Z",
          "iopub.status.idle": "2023-02-10T05:12:41.145512Z",
          "shell.execute_reply": "2023-02-10T05:12:41.144647Z"
        },
        "origin_pos": 12,
        "tab": [
          "pytorch"
        ],
        "id": "1ace4302"
      },
      "outputs": [],
      "source": [
        "blk = Residual(3)\n",
        "X = torch.randn(4, 3, 6, 6)\n",
        "blk(X).shape"
      ]
    },
    {
      "cell_type": "code",
      "execution_count": null,
      "id": "ced4362f",
      "metadata": {
        "execution": {
          "iopub.execute_input": "2023-02-10T05:12:41.151276Z",
          "iopub.status.busy": "2023-02-10T05:12:41.149904Z",
          "iopub.status.idle": "2023-02-10T05:12:41.332009Z",
          "shell.execute_reply": "2023-02-10T05:12:41.331051Z"
        },
        "origin_pos": 16,
        "tab": [
          "pytorch"
        ],
        "id": "ced4362f"
      },
      "outputs": [],
      "source": [
        "blk = Residual(6, use_1x1conv=True, strides=2)\n",
        "blk(X).shape"
      ]
    },
    {
      "cell_type": "code",
      "execution_count": null,
      "id": "dead4c6e",
      "metadata": {
        "execution": {
          "iopub.execute_input": "2023-02-10T05:12:41.336576Z",
          "iopub.status.busy": "2023-02-10T05:12:41.335821Z",
          "iopub.status.idle": "2023-02-10T05:12:41.351009Z",
          "shell.execute_reply": "2023-02-10T05:12:41.342826Z"
        },
        "origin_pos": 19,
        "tab": [
          "pytorch"
        ],
        "id": "dead4c6e"
      },
      "outputs": [],
      "source": [
        "class ResNet(d2l.Classifier):\n",
        "    def b1(self):\n",
        "        return nn.Sequential(\n",
        "            nn.LazyConv2d(64, kernel_size=7, stride=2, padding=3),\n",
        "            nn.ReLU(),\n",
        "            nn.MaxPool2d(kernel_size=3, stride=2, padding=1), # Switch batch norm and max-pooling layer\n",
        "            nn.BatchNorm2d(64)) # LazyBatchNorm to BatchNorm2D"
      ]
    },
    {
      "cell_type": "code",
      "execution_count": null,
      "id": "d80c1cbf",
      "metadata": {
        "execution": {
          "iopub.execute_input": "2023-02-10T05:12:41.355208Z",
          "iopub.status.busy": "2023-02-10T05:12:41.354473Z",
          "iopub.status.idle": "2023-02-10T05:12:41.366541Z",
          "shell.execute_reply": "2023-02-10T05:12:41.361835Z"
        },
        "origin_pos": 23,
        "tab": [
          "pytorch"
        ],
        "id": "d80c1cbf"
      },
      "outputs": [],
      "source": [
        "@d2l.add_to_class(ResNet)\n",
        "def block(self, num_residuals, num_channels, first_block=False):\n",
        "    blk = []\n",
        "    for i in range(num_residuals):\n",
        "        if i == 0 and not first_block:\n",
        "            blk.append(Residual(num_channels, use_1x1conv=True, strides=2))\n",
        "        else:\n",
        "            blk.append(Residual(num_channels))\n",
        "    return nn.Sequential(*blk)"
      ]
    },
    {
      "cell_type": "code",
      "execution_count": null,
      "id": "c336f6c5",
      "metadata": {
        "execution": {
          "iopub.execute_input": "2023-02-10T05:12:41.372691Z",
          "iopub.status.busy": "2023-02-10T05:12:41.371976Z",
          "iopub.status.idle": "2023-02-10T05:12:41.384755Z",
          "shell.execute_reply": "2023-02-10T05:12:41.381751Z"
        },
        "origin_pos": 27,
        "tab": [
          "pytorch"
        ],
        "id": "c336f6c5"
      },
      "outputs": [],
      "source": [
        "@d2l.add_to_class(ResNet)\n",
        "def __init__(self, arch, lr=0.1, weight_decay=0.0001, num_classes=10):\n",
        "    super(ResNet, self).__init__()\n",
        "    self.save_hyperparameters()\n",
        "    self.net = nn.Sequential(self.b1())\n",
        "    for i, b in enumerate(arch):\n",
        "        self.net.add_module(f'b{i+2}', self.block(*b, first_block=(i==0)))\n",
        "    self.net.add_module('last', nn.Sequential(\n",
        "        nn.AdaptiveAvgPool2d((1, 1)),\n",
        "        nn.Flatten(),\n",
        "        nn.LazyLinear(num_classes)))\n",
        "    self.net.apply(d2l.init_cnn)\n",
        "    self.optimizer = torch.optim.SGD(self.parameters(), lr=lr, weight_decay=weight_decay) # add weight decay and SGD optimizer"
      ]
    },
    {
      "cell_type": "code",
      "execution_count": null,
      "id": "836499a8",
      "metadata": {
        "execution": {
          "iopub.execute_input": "2023-02-10T05:12:41.391684Z",
          "iopub.status.busy": "2023-02-10T05:12:41.391136Z",
          "iopub.status.idle": "2023-02-10T05:12:41.402467Z",
          "shell.execute_reply": "2023-02-10T05:12:41.401486Z"
        },
        "origin_pos": 30,
        "tab": [
          "pytorch"
        ],
        "id": "836499a8"
      },
      "outputs": [],
      "source": [
        "class ResNet14(ResNet):\n",
        "    def __init__(self, lr=0.1, weight_decay=0.0001, num_classes=10): # add weight decay\n",
        "        super().__init__(((2, 64), (2, 128), (2, 256)), # change to resnet14\n",
        "                       lr, weight_decay, num_classes)"
      ]
    },
    {
      "cell_type": "code",
      "execution_count": null,
      "id": "f455808e",
      "metadata": {
        "execution": {
          "iopub.execute_input": "2023-02-10T05:12:43.118784Z",
          "iopub.status.busy": "2023-02-10T05:12:43.116034Z",
          "iopub.status.idle": "2023-02-10T05:16:06.397001Z",
          "shell.execute_reply": "2023-02-10T05:16:06.395854Z"
        },
        "origin_pos": 36,
        "tab": [
          "pytorch"
        ],
        "id": "f455808e"
      },
      "outputs": [],
      "source": [
        "model = ResNet14(lr=0.01, weight_decay=0.1)\n",
        "trainer = d2l.Trainer(max_epochs=1, num_gpus=1)\n",
        "data = d2l.FashionMNIST(batch_size=256, resize=(28, 28))\n",
        "model.apply_init([next(iter(data.get_dataloader(True)))[0]], d2l.init_cnn)\n",
        "\n",
        "# Initialize start time for calculating training time\n",
        "start_time = time.time()\n",
        "\n",
        "# Train model\n",
        "trainer.fit(model, data)\n",
        "\n",
        "# Evaluate accuracy on test dataset\n",
        "test_accuracy = d2l.evaluate_accuracy_gpu(model, data.get_dataloader(False), None)\n",
        "\n",
        "# Calculate total training time\n",
        "total_time = time.time() - start_time\n",
        "\n",
        "# Calculate average training time of one epoch\n",
        "avg_time_epoch = total_time / trainer.max_epochs\n",
        "\n",
        "# Print results\n",
        "print(f\"Accuracy on test dataset: {test_accuracy:.2%}\")\n",
        "print(f\"Total training time: {total_time:.2f} seconds\")\n",
        "print(f\"Average training time per epoch: {avg_time_epoch:.2f} seconds\")"
      ]
    }
  ],
  "metadata": {
    "accelerator": "GPU",
    "kernelspec": {
      "display_name": "Python 3",
      "name": "python3"
    },
    "language_info": {
      "name": "python"
    },
    "colab": {
      "provenance": [],
      "gpuType": "T4",
      "include_colab_link": true
    },
    "gpuClass": "standard"
  },
  "nbformat": 4,
  "nbformat_minor": 5
}