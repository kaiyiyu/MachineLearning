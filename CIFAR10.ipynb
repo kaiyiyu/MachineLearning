{
  "cells": [
    {
      "cell_type": "markdown",
      "metadata": {
        "id": "view-in-github",
        "colab_type": "text"
      },
      "source": [
        "<a href=\"https://colab.research.google.com/github/kaiyiyu/MachineLearning/blob/main/CIFAR10.ipynb\" target=\"_parent\"><img src=\"https://colab.research.google.com/assets/colab-badge.svg\" alt=\"Open In Colab\"/></a>"
      ]
    },
    {
      "cell_type": "markdown",
      "id": "44f9dcf7",
      "metadata": {
        "id": "44f9dcf7"
      },
      "source": [
        "The following additional libraries are needed to run this\n",
        "notebook. Note that running on Colab is experimental, please report a Github\n",
        "issue if you have any problem."
      ]
    },
    {
      "cell_type": "code",
      "execution_count": null,
      "id": "0a37f339",
      "metadata": {
        "id": "0a37f339",
        "colab": {
          "base_uri": "https://localhost:8080/"
        },
        "outputId": "3ba0bd83-414e-4621-cda9-34ac916cf6d8"
      },
      "outputs": [
        {
          "output_type": "stream",
          "name": "stdout",
          "text": [
            "Looking in indexes: https://pypi.org/simple, https://us-python.pkg.dev/colab-wheels/public/simple/\n",
            "Requirement already satisfied: d2l==v1.0.0-alpha1.post0 in /usr/local/lib/python3.10/dist-packages (1.0.0a1.post0)\n",
            "Requirement already satisfied: jupyter in /usr/local/lib/python3.10/dist-packages (from d2l==v1.0.0-alpha1.post0) (1.0.0)\n",
            "Requirement already satisfied: numpy in /usr/local/lib/python3.10/dist-packages (from d2l==v1.0.0-alpha1.post0) (1.22.4)\n",
            "Requirement already satisfied: matplotlib in /usr/local/lib/python3.10/dist-packages (from d2l==v1.0.0-alpha1.post0) (3.7.1)\n",
            "Requirement already satisfied: matplotlib-inline in /usr/local/lib/python3.10/dist-packages (from d2l==v1.0.0-alpha1.post0) (0.1.6)\n",
            "Requirement already satisfied: requests in /usr/local/lib/python3.10/dist-packages (from d2l==v1.0.0-alpha1.post0) (2.27.1)\n",
            "Requirement already satisfied: pandas in /usr/local/lib/python3.10/dist-packages (from d2l==v1.0.0-alpha1.post0) (1.5.3)\n",
            "Requirement already satisfied: gym in /usr/local/lib/python3.10/dist-packages (from d2l==v1.0.0-alpha1.post0) (0.25.2)\n",
            "Requirement already satisfied: cloudpickle>=1.2.0 in /usr/local/lib/python3.10/dist-packages (from gym->d2l==v1.0.0-alpha1.post0) (2.2.1)\n",
            "Requirement already satisfied: gym-notices>=0.0.4 in /usr/local/lib/python3.10/dist-packages (from gym->d2l==v1.0.0-alpha1.post0) (0.0.8)\n",
            "Requirement already satisfied: notebook in /usr/local/lib/python3.10/dist-packages (from jupyter->d2l==v1.0.0-alpha1.post0) (6.4.8)\n",
            "Requirement already satisfied: qtconsole in /usr/local/lib/python3.10/dist-packages (from jupyter->d2l==v1.0.0-alpha1.post0) (5.4.3)\n",
            "Requirement already satisfied: jupyter-console in /usr/local/lib/python3.10/dist-packages (from jupyter->d2l==v1.0.0-alpha1.post0) (6.1.0)\n",
            "Requirement already satisfied: nbconvert in /usr/local/lib/python3.10/dist-packages (from jupyter->d2l==v1.0.0-alpha1.post0) (6.5.4)\n",
            "Requirement already satisfied: ipykernel in /usr/local/lib/python3.10/dist-packages (from jupyter->d2l==v1.0.0-alpha1.post0) (5.5.6)\n",
            "Requirement already satisfied: ipywidgets in /usr/local/lib/python3.10/dist-packages (from jupyter->d2l==v1.0.0-alpha1.post0) (7.7.1)\n",
            "Requirement already satisfied: contourpy>=1.0.1 in /usr/local/lib/python3.10/dist-packages (from matplotlib->d2l==v1.0.0-alpha1.post0) (1.0.7)\n",
            "Requirement already satisfied: cycler>=0.10 in /usr/local/lib/python3.10/dist-packages (from matplotlib->d2l==v1.0.0-alpha1.post0) (0.11.0)\n",
            "Requirement already satisfied: fonttools>=4.22.0 in /usr/local/lib/python3.10/dist-packages (from matplotlib->d2l==v1.0.0-alpha1.post0) (4.39.3)\n",
            "Requirement already satisfied: kiwisolver>=1.0.1 in /usr/local/lib/python3.10/dist-packages (from matplotlib->d2l==v1.0.0-alpha1.post0) (1.4.4)\n",
            "Requirement already satisfied: packaging>=20.0 in /usr/local/lib/python3.10/dist-packages (from matplotlib->d2l==v1.0.0-alpha1.post0) (23.1)\n",
            "Requirement already satisfied: pillow>=6.2.0 in /usr/local/lib/python3.10/dist-packages (from matplotlib->d2l==v1.0.0-alpha1.post0) (8.4.0)\n",
            "Requirement already satisfied: pyparsing>=2.3.1 in /usr/local/lib/python3.10/dist-packages (from matplotlib->d2l==v1.0.0-alpha1.post0) (3.0.9)\n",
            "Requirement already satisfied: python-dateutil>=2.7 in /usr/local/lib/python3.10/dist-packages (from matplotlib->d2l==v1.0.0-alpha1.post0) (2.8.2)\n",
            "Requirement already satisfied: traitlets in /usr/local/lib/python3.10/dist-packages (from matplotlib-inline->d2l==v1.0.0-alpha1.post0) (5.7.1)\n",
            "Requirement already satisfied: pytz>=2020.1 in /usr/local/lib/python3.10/dist-packages (from pandas->d2l==v1.0.0-alpha1.post0) (2022.7.1)\n",
            "Requirement already satisfied: urllib3<1.27,>=1.21.1 in /usr/local/lib/python3.10/dist-packages (from requests->d2l==v1.0.0-alpha1.post0) (1.26.15)\n",
            "Requirement already satisfied: certifi>=2017.4.17 in /usr/local/lib/python3.10/dist-packages (from requests->d2l==v1.0.0-alpha1.post0) (2022.12.7)\n",
            "Requirement already satisfied: charset-normalizer~=2.0.0 in /usr/local/lib/python3.10/dist-packages (from requests->d2l==v1.0.0-alpha1.post0) (2.0.12)\n",
            "Requirement already satisfied: idna<4,>=2.5 in /usr/local/lib/python3.10/dist-packages (from requests->d2l==v1.0.0-alpha1.post0) (3.4)\n",
            "Requirement already satisfied: six>=1.5 in /usr/local/lib/python3.10/dist-packages (from python-dateutil>=2.7->matplotlib->d2l==v1.0.0-alpha1.post0) (1.16.0)\n",
            "Requirement already satisfied: ipython-genutils in /usr/local/lib/python3.10/dist-packages (from ipykernel->jupyter->d2l==v1.0.0-alpha1.post0) (0.2.0)\n",
            "Requirement already satisfied: ipython>=5.0.0 in /usr/local/lib/python3.10/dist-packages (from ipykernel->jupyter->d2l==v1.0.0-alpha1.post0) (7.34.0)\n",
            "Requirement already satisfied: jupyter-client in /usr/local/lib/python3.10/dist-packages (from ipykernel->jupyter->d2l==v1.0.0-alpha1.post0) (6.1.12)\n",
            "Requirement already satisfied: tornado>=4.2 in /usr/local/lib/python3.10/dist-packages (from ipykernel->jupyter->d2l==v1.0.0-alpha1.post0) (6.3.1)\n",
            "Requirement already satisfied: widgetsnbextension~=3.6.0 in /usr/local/lib/python3.10/dist-packages (from ipywidgets->jupyter->d2l==v1.0.0-alpha1.post0) (3.6.4)\n",
            "Requirement already satisfied: jupyterlab-widgets>=1.0.0 in /usr/local/lib/python3.10/dist-packages (from ipywidgets->jupyter->d2l==v1.0.0-alpha1.post0) (3.0.7)\n",
            "Requirement already satisfied: prompt-toolkit!=3.0.0,!=3.0.1,<3.1.0,>=2.0.0 in /usr/local/lib/python3.10/dist-packages (from jupyter-console->jupyter->d2l==v1.0.0-alpha1.post0) (3.0.38)\n",
            "Requirement already satisfied: pygments in /usr/local/lib/python3.10/dist-packages (from jupyter-console->jupyter->d2l==v1.0.0-alpha1.post0) (2.14.0)\n",
            "Requirement already satisfied: lxml in /usr/local/lib/python3.10/dist-packages (from nbconvert->jupyter->d2l==v1.0.0-alpha1.post0) (4.9.2)\n",
            "Requirement already satisfied: beautifulsoup4 in /usr/local/lib/python3.10/dist-packages (from nbconvert->jupyter->d2l==v1.0.0-alpha1.post0) (4.11.2)\n",
            "Requirement already satisfied: bleach in /usr/local/lib/python3.10/dist-packages (from nbconvert->jupyter->d2l==v1.0.0-alpha1.post0) (6.0.0)\n",
            "Requirement already satisfied: defusedxml in /usr/local/lib/python3.10/dist-packages (from nbconvert->jupyter->d2l==v1.0.0-alpha1.post0) (0.7.1)\n",
            "Requirement already satisfied: entrypoints>=0.2.2 in /usr/local/lib/python3.10/dist-packages (from nbconvert->jupyter->d2l==v1.0.0-alpha1.post0) (0.4)\n",
            "Requirement already satisfied: jinja2>=3.0 in /usr/local/lib/python3.10/dist-packages (from nbconvert->jupyter->d2l==v1.0.0-alpha1.post0) (3.1.2)\n",
            "Requirement already satisfied: jupyter-core>=4.7 in /usr/local/lib/python3.10/dist-packages (from nbconvert->jupyter->d2l==v1.0.0-alpha1.post0) (5.3.0)\n",
            "Requirement already satisfied: jupyterlab-pygments in /usr/local/lib/python3.10/dist-packages (from nbconvert->jupyter->d2l==v1.0.0-alpha1.post0) (0.2.2)\n",
            "Requirement already satisfied: MarkupSafe>=2.0 in /usr/local/lib/python3.10/dist-packages (from nbconvert->jupyter->d2l==v1.0.0-alpha1.post0) (2.1.2)\n",
            "Requirement already satisfied: mistune<2,>=0.8.1 in /usr/local/lib/python3.10/dist-packages (from nbconvert->jupyter->d2l==v1.0.0-alpha1.post0) (0.8.4)\n",
            "Requirement already satisfied: nbclient>=0.5.0 in /usr/local/lib/python3.10/dist-packages (from nbconvert->jupyter->d2l==v1.0.0-alpha1.post0) (0.7.4)\n",
            "Requirement already satisfied: nbformat>=5.1 in /usr/local/lib/python3.10/dist-packages (from nbconvert->jupyter->d2l==v1.0.0-alpha1.post0) (5.8.0)\n",
            "Requirement already satisfied: pandocfilters>=1.4.1 in /usr/local/lib/python3.10/dist-packages (from nbconvert->jupyter->d2l==v1.0.0-alpha1.post0) (1.5.0)\n",
            "Requirement already satisfied: tinycss2 in /usr/local/lib/python3.10/dist-packages (from nbconvert->jupyter->d2l==v1.0.0-alpha1.post0) (1.2.1)\n",
            "Requirement already satisfied: pyzmq>=17 in /usr/local/lib/python3.10/dist-packages (from notebook->jupyter->d2l==v1.0.0-alpha1.post0) (23.2.1)\n",
            "Requirement already satisfied: argon2-cffi in /usr/local/lib/python3.10/dist-packages (from notebook->jupyter->d2l==v1.0.0-alpha1.post0) (21.3.0)\n",
            "Requirement already satisfied: nest-asyncio>=1.5 in /usr/local/lib/python3.10/dist-packages (from notebook->jupyter->d2l==v1.0.0-alpha1.post0) (1.5.6)\n",
            "Requirement already satisfied: Send2Trash>=1.8.0 in /usr/local/lib/python3.10/dist-packages (from notebook->jupyter->d2l==v1.0.0-alpha1.post0) (1.8.0)\n",
            "Requirement already satisfied: terminado>=0.8.3 in /usr/local/lib/python3.10/dist-packages (from notebook->jupyter->d2l==v1.0.0-alpha1.post0) (0.17.1)\n",
            "Requirement already satisfied: prometheus-client in /usr/local/lib/python3.10/dist-packages (from notebook->jupyter->d2l==v1.0.0-alpha1.post0) (0.16.0)\n",
            "Requirement already satisfied: qtpy>=2.0.1 in /usr/local/lib/python3.10/dist-packages (from qtconsole->jupyter->d2l==v1.0.0-alpha1.post0) (2.3.1)\n",
            "Requirement already satisfied: setuptools>=18.5 in /usr/local/lib/python3.10/dist-packages (from ipython>=5.0.0->ipykernel->jupyter->d2l==v1.0.0-alpha1.post0) (67.7.2)\n",
            "Requirement already satisfied: jedi>=0.16 in /usr/local/lib/python3.10/dist-packages (from ipython>=5.0.0->ipykernel->jupyter->d2l==v1.0.0-alpha1.post0) (0.18.2)\n",
            "Requirement already satisfied: decorator in /usr/local/lib/python3.10/dist-packages (from ipython>=5.0.0->ipykernel->jupyter->d2l==v1.0.0-alpha1.post0) (4.4.2)\n",
            "Requirement already satisfied: pickleshare in /usr/local/lib/python3.10/dist-packages (from ipython>=5.0.0->ipykernel->jupyter->d2l==v1.0.0-alpha1.post0) (0.7.5)\n",
            "Requirement already satisfied: backcall in /usr/local/lib/python3.10/dist-packages (from ipython>=5.0.0->ipykernel->jupyter->d2l==v1.0.0-alpha1.post0) (0.2.0)\n",
            "Requirement already satisfied: pexpect>4.3 in /usr/local/lib/python3.10/dist-packages (from ipython>=5.0.0->ipykernel->jupyter->d2l==v1.0.0-alpha1.post0) (4.8.0)\n",
            "Requirement already satisfied: platformdirs>=2.5 in /usr/local/lib/python3.10/dist-packages (from jupyter-core>=4.7->nbconvert->jupyter->d2l==v1.0.0-alpha1.post0) (3.3.0)\n",
            "Requirement already satisfied: fastjsonschema in /usr/local/lib/python3.10/dist-packages (from nbformat>=5.1->nbconvert->jupyter->d2l==v1.0.0-alpha1.post0) (2.16.3)\n",
            "Requirement already satisfied: jsonschema>=2.6 in /usr/local/lib/python3.10/dist-packages (from nbformat>=5.1->nbconvert->jupyter->d2l==v1.0.0-alpha1.post0) (4.3.3)\n",
            "Requirement already satisfied: wcwidth in /usr/local/lib/python3.10/dist-packages (from prompt-toolkit!=3.0.0,!=3.0.1,<3.1.0,>=2.0.0->jupyter-console->jupyter->d2l==v1.0.0-alpha1.post0) (0.2.6)\n",
            "Requirement already satisfied: ptyprocess in /usr/local/lib/python3.10/dist-packages (from terminado>=0.8.3->notebook->jupyter->d2l==v1.0.0-alpha1.post0) (0.7.0)\n",
            "Requirement already satisfied: argon2-cffi-bindings in /usr/local/lib/python3.10/dist-packages (from argon2-cffi->notebook->jupyter->d2l==v1.0.0-alpha1.post0) (21.2.0)\n",
            "Requirement already satisfied: soupsieve>1.2 in /usr/local/lib/python3.10/dist-packages (from beautifulsoup4->nbconvert->jupyter->d2l==v1.0.0-alpha1.post0) (2.4.1)\n",
            "Requirement already satisfied: webencodings in /usr/local/lib/python3.10/dist-packages (from bleach->nbconvert->jupyter->d2l==v1.0.0-alpha1.post0) (0.5.1)\n",
            "Requirement already satisfied: parso<0.9.0,>=0.8.0 in /usr/local/lib/python3.10/dist-packages (from jedi>=0.16->ipython>=5.0.0->ipykernel->jupyter->d2l==v1.0.0-alpha1.post0) (0.8.3)\n",
            "Requirement already satisfied: attrs>=17.4.0 in /usr/local/lib/python3.10/dist-packages (from jsonschema>=2.6->nbformat>=5.1->nbconvert->jupyter->d2l==v1.0.0-alpha1.post0) (23.1.0)\n",
            "Requirement already satisfied: pyrsistent!=0.17.0,!=0.17.1,!=0.17.2,>=0.14.0 in /usr/local/lib/python3.10/dist-packages (from jsonschema>=2.6->nbformat>=5.1->nbconvert->jupyter->d2l==v1.0.0-alpha1.post0) (0.19.3)\n",
            "Requirement already satisfied: cffi>=1.0.1 in /usr/local/lib/python3.10/dist-packages (from argon2-cffi-bindings->argon2-cffi->notebook->jupyter->d2l==v1.0.0-alpha1.post0) (1.15.1)\n",
            "Requirement already satisfied: pycparser in /usr/local/lib/python3.10/dist-packages (from cffi>=1.0.1->argon2-cffi-bindings->argon2-cffi->notebook->jupyter->d2l==v1.0.0-alpha1.post0) (2.21)\n"
          ]
        }
      ],
      "source": [
        "!pip install d2l==v1.0.0-alpha1.post0"
      ]
    },
    {
      "cell_type": "code",
      "execution_count": null,
      "id": "63d2c1c3",
      "metadata": {
        "execution": {
          "iopub.execute_input": "2023-02-10T05:12:37.626779Z",
          "iopub.status.busy": "2023-02-10T05:12:37.625765Z",
          "iopub.status.idle": "2023-02-10T05:12:40.781152Z",
          "shell.execute_reply": "2023-02-10T05:12:40.778614Z"
        },
        "origin_pos": 3,
        "tab": [
          "pytorch"
        ],
        "id": "63d2c1c3"
      },
      "outputs": [],
      "source": [
        "import time\n",
        "import torch\n",
        "import torchvision\n",
        "from torch import nn\n",
        "from torch.nn import functional as F\n",
        "from torchvision import datasets, transforms\n",
        "from d2l import torch as d2l"
      ]
    },
    {
      "cell_type": "code",
      "execution_count": null,
      "id": "378367c8",
      "metadata": {
        "execution": {
          "iopub.execute_input": "2023-02-10T05:12:40.790182Z",
          "iopub.status.busy": "2023-02-10T05:12:40.788722Z",
          "iopub.status.idle": "2023-02-10T05:12:40.917437Z",
          "shell.execute_reply": "2023-02-10T05:12:40.909948Z"
        },
        "origin_pos": 8,
        "tab": [
          "pytorch"
        ],
        "id": "378367c8"
      },
      "outputs": [],
      "source": [
        "class Residual(nn.Module):\n",
        "    \"\"\"The Residual block of ResNet models.\"\"\"\n",
        "    def __init__(self, num_channels, use_1x1conv=False, strides=1):\n",
        "        super().__init__()\n",
        "        self.conv1 = nn.LazyConv2d(num_channels, kernel_size=3, padding=1,\n",
        "                                   stride=strides)\n",
        "        self.conv2 = nn.LazyConv2d(num_channels, kernel_size=3, padding=1)\n",
        "        if use_1x1conv:\n",
        "            self.conv3 = nn.LazyConv2d(num_channels, kernel_size=1,\n",
        "                                       stride=strides)\n",
        "        else:\n",
        "            self.conv3 = None\n",
        "        self.bn1 = nn.LazyBatchNorm2d()\n",
        "        self.bn2 = nn.LazyBatchNorm2d()\n",
        "\n",
        "    def forward(self, X):\n",
        "        Y = F.relu(self.bn1(self.conv1(X)))\n",
        "        Y = self.bn2(self.conv2(Y))\n",
        "        if self.conv3:\n",
        "            X = self.conv3(X)\n",
        "        Y += X\n",
        "        return F.relu(Y)"
      ]
    },
    {
      "cell_type": "code",
      "execution_count": null,
      "id": "1ace4302",
      "metadata": {
        "execution": {
          "iopub.execute_input": "2023-02-10T05:12:40.926553Z",
          "iopub.status.busy": "2023-02-10T05:12:40.924047Z",
          "iopub.status.idle": "2023-02-10T05:12:41.145512Z",
          "shell.execute_reply": "2023-02-10T05:12:41.144647Z"
        },
        "origin_pos": 12,
        "tab": [
          "pytorch"
        ],
        "id": "1ace4302",
        "outputId": "9fa5999d-b442-43fb-c2fa-4f30e819a440",
        "colab": {
          "base_uri": "https://localhost:8080/"
        }
      },
      "outputs": [
        {
          "output_type": "execute_result",
          "data": {
            "text/plain": [
              "torch.Size([4, 3, 6, 6])"
            ]
          },
          "metadata": {},
          "execution_count": 75
        }
      ],
      "source": [
        "blk = Residual(3)\n",
        "X = torch.randn(4, 3, 6, 6)\n",
        "blk(X).shape"
      ]
    },
    {
      "cell_type": "code",
      "execution_count": null,
      "id": "ced4362f",
      "metadata": {
        "execution": {
          "iopub.execute_input": "2023-02-10T05:12:41.151276Z",
          "iopub.status.busy": "2023-02-10T05:12:41.149904Z",
          "iopub.status.idle": "2023-02-10T05:12:41.332009Z",
          "shell.execute_reply": "2023-02-10T05:12:41.331051Z"
        },
        "origin_pos": 16,
        "tab": [
          "pytorch"
        ],
        "id": "ced4362f",
        "outputId": "8b6d3a32-acce-49a4-eb70-cbce5c6db34a",
        "colab": {
          "base_uri": "https://localhost:8080/"
        }
      },
      "outputs": [
        {
          "output_type": "execute_result",
          "data": {
            "text/plain": [
              "torch.Size([4, 6, 3, 3])"
            ]
          },
          "metadata": {},
          "execution_count": 76
        }
      ],
      "source": [
        "blk = Residual(6, use_1x1conv=True, strides=2)\n",
        "blk(X).shape"
      ]
    },
    {
      "cell_type": "code",
      "execution_count": null,
      "id": "dead4c6e",
      "metadata": {
        "execution": {
          "iopub.execute_input": "2023-02-10T05:12:41.336576Z",
          "iopub.status.busy": "2023-02-10T05:12:41.335821Z",
          "iopub.status.idle": "2023-02-10T05:12:41.351009Z",
          "shell.execute_reply": "2023-02-10T05:12:41.342826Z"
        },
        "origin_pos": 19,
        "tab": [
          "pytorch"
        ],
        "id": "dead4c6e"
      },
      "outputs": [],
      "source": [
        "class ResNet(d2l.Classifier):\n",
        "    def b1(self):\n",
        "        return nn.Sequential(\n",
        "            nn.LazyConv2d(16, kernel_size=3, stride=1, padding=1),\n",
        "            nn.LazyBatchNorm2d(),\n",
        "            nn.ReLU(),\n",
        "            nn.LazyConv2d(16, kernel_size=3, stride=1, padding=1),\n",
        "            nn.LazyBatchNorm2d(),\n",
        "            nn.ReLU(),\n",
        "            nn.MaxPool2d(kernel_size=3, stride=2, padding=1))"
      ]
    },
    {
      "cell_type": "code",
      "execution_count": null,
      "id": "d80c1cbf",
      "metadata": {
        "execution": {
          "iopub.execute_input": "2023-02-10T05:12:41.355208Z",
          "iopub.status.busy": "2023-02-10T05:12:41.354473Z",
          "iopub.status.idle": "2023-02-10T05:12:41.366541Z",
          "shell.execute_reply": "2023-02-10T05:12:41.361835Z"
        },
        "origin_pos": 23,
        "tab": [
          "pytorch"
        ],
        "id": "d80c1cbf"
      },
      "outputs": [],
      "source": [
        "@d2l.add_to_class(ResNet)\n",
        "def block(self, num_residuals, num_channels, first_block=False):\n",
        "    blk = []\n",
        "    for i in range(num_residuals):\n",
        "        if i == 0 and not first_block:\n",
        "            blk.append(Residual(num_channels, use_1x1conv=True, strides=2))\n",
        "        else:\n",
        "            blk.append(Residual(num_channels))\n",
        "    return nn.Sequential(*blk)"
      ]
    },
    {
      "cell_type": "code",
      "execution_count": null,
      "id": "c336f6c5",
      "metadata": {
        "execution": {
          "iopub.execute_input": "2023-02-10T05:12:41.372691Z",
          "iopub.status.busy": "2023-02-10T05:12:41.371976Z",
          "iopub.status.idle": "2023-02-10T05:12:41.384755Z",
          "shell.execute_reply": "2023-02-10T05:12:41.381751Z"
        },
        "origin_pos": 27,
        "tab": [
          "pytorch"
        ],
        "id": "c336f6c5"
      },
      "outputs": [],
      "source": [
        "@d2l.add_to_class(ResNet)\n",
        "def __init__(self, arch, lr=0.1, weight_decay=0.0001, num_classes=10):\n",
        "    super(ResNet, self).__init__()\n",
        "    self.save_hyperparameters()\n",
        "    self.net = nn.Sequential(self.b1())\n",
        "    for i, b in enumerate(arch):\n",
        "        self.net.add_module(f'b{i+2}', self.block(*b, first_block=(i==0)))\n",
        "    self.net.add_module('last', nn.Sequential(\n",
        "        nn.AdaptiveAvgPool2d((1, 1)),\n",
        "        nn.Flatten(),\n",
        "        nn.LazyLinear(num_classes)))\n",
        "    self.net.apply(d2l.init_cnn)"
      ]
    },
    {
      "cell_type": "code",
      "execution_count": null,
      "id": "836499a8",
      "metadata": {
        "execution": {
          "iopub.execute_input": "2023-02-10T05:12:41.391684Z",
          "iopub.status.busy": "2023-02-10T05:12:41.391136Z",
          "iopub.status.idle": "2023-02-10T05:12:41.402467Z",
          "shell.execute_reply": "2023-02-10T05:12:41.401486Z"
        },
        "origin_pos": 30,
        "tab": [
          "pytorch"
        ],
        "id": "836499a8"
      },
      "outputs": [],
      "source": [
        "class ResNet20(ResNet):\n",
        "    def __init__(self, lr=0.1, weight_decay=0.0001, num_classes=10):\n",
        "        super().__init__(((3, 16), (3, 32), (3, 64)), lr, weight_decay, num_classes)"
      ]
    },
    {
      "cell_type": "code",
      "execution_count": null,
      "id": "0d076ac0",
      "metadata": {
        "execution": {
          "iopub.execute_input": "2023-02-10T05:12:41.408609Z",
          "iopub.status.busy": "2023-02-10T05:12:41.408303Z",
          "iopub.status.idle": "2023-02-10T05:12:43.111512Z",
          "shell.execute_reply": "2023-02-10T05:12:43.109380Z"
        },
        "origin_pos": 32,
        "tab": [
          "pytorch"
        ],
        "id": "0d076ac0",
        "outputId": "dd22874c-9f85-4dbc-fae6-6110f9034464",
        "colab": {
          "base_uri": "https://localhost:8080/"
        }
      },
      "outputs": [
        {
          "output_type": "stream",
          "name": "stdout",
          "text": [
            "Sequential output shape:\t torch.Size([1, 16, 48, 48])\n",
            "Sequential output shape:\t torch.Size([1, 16, 48, 48])\n",
            "Sequential output shape:\t torch.Size([1, 32, 24, 24])\n",
            "Sequential output shape:\t torch.Size([1, 64, 12, 12])\n",
            "Sequential output shape:\t torch.Size([1, 10])\n"
          ]
        }
      ],
      "source": [
        "ResNet20().layer_summary((1, 1, 96, 96))"
      ]
    },
    {
      "cell_type": "code",
      "execution_count": null,
      "id": "f455808e",
      "metadata": {
        "execution": {
          "iopub.execute_input": "2023-02-10T05:12:43.118784Z",
          "iopub.status.busy": "2023-02-10T05:12:43.116034Z",
          "iopub.status.idle": "2023-02-10T05:16:06.397001Z",
          "shell.execute_reply": "2023-02-10T05:16:06.395854Z"
        },
        "origin_pos": 36,
        "tab": [
          "pytorch"
        ],
        "id": "f455808e",
        "colab": {
          "base_uri": "https://localhost:8080/"
        },
        "outputId": "8b9b8f78-415f-4384-d2dd-b90abccc7156"
      },
      "outputs": [
        {
          "output_type": "stream",
          "name": "stdout",
          "text": [
            "Files already downloaded and verified\n",
            "Files already downloaded and verified\n",
            "Epoch 1, train loss: 1.7042, train acc: 0.3587, test acc: 0.4352\n",
            "Epoch 2, train loss: 1.2107, train acc: 0.5604, test acc: 0.5621\n",
            "Epoch 3, train loss: 0.9731, train acc: 0.6524, test acc: 0.5392\n",
            "Epoch 4, train loss: 0.8029, train acc: 0.7158, test acc: 0.7015\n",
            "Epoch 5, train loss: 0.6869, train acc: 0.7581, test acc: 0.7335\n",
            "Epoch 6, train loss: 0.6124, train acc: 0.7842, test acc: 0.7086\n",
            "Epoch 7, train loss: 0.5477, train acc: 0.8079, test acc: 0.6917\n",
            "Epoch 8, train loss: 0.4870, train acc: 0.8278, test acc: 0.7526\n",
            "Epoch 9, train loss: 0.4408, train acc: 0.8449, test acc: 0.7307\n",
            "Epoch 10, train loss: 0.3921, train acc: 0.8618, test acc: 0.7528\n",
            "Epoch 11, train loss: 0.3570, train acc: 0.8744, test acc: 0.7411\n",
            "Epoch 12, train loss: 0.3191, train acc: 0.8872, test acc: 0.7525\n",
            "Epoch 13, train loss: 0.2950, train acc: 0.8951, test acc: 0.7541\n",
            "Epoch 14, train loss: 0.2577, train acc: 0.9082, test acc: 0.7674\n",
            "Epoch 15, train loss: 0.2357, train acc: 0.9160, test acc: 0.7662\n",
            "Accuracy on test dataset: 76.62%\n",
            "Total training time: 361.11 seconds\n",
            "Average training time per epoch: 72.22 seconds\n"
          ]
        }
      ],
      "source": [
        "def train_cnn(model, train_loader, test_loader, num_epochs, lr=0.1, wd=0.0):\n",
        "    device = torch.device('cuda' if torch.cuda.is_available() else 'gpu')\n",
        "    model.to(device)\n",
        "    optimizer = torch.optim.Adam(model.parameters(), lr=lr)\n",
        "    for epoch in range(num_epochs):\n",
        "        train_loss, train_acc, n = 0.0, 0.0, 0\n",
        "        model.train()\n",
        "        for X, y in train_loader:\n",
        "            X, y = X.to(device), y.to(device)\n",
        "            optimizer.zero_grad()\n",
        "            y_hat = model(X)\n",
        "            loss = F.cross_entropy(y_hat, y)\n",
        "            loss.backward()\n",
        "            optimizer.step()\n",
        "            train_loss += loss.item() * y.size(0)\n",
        "            train_acc += (y_hat.argmax(dim=1) == y).sum().item()\n",
        "            n += y.size(0)\n",
        "        train_loss /= n\n",
        "        train_acc /= n\n",
        "        test_acc = d2l.evaluate_accuracy_gpu(model, test_loader)\n",
        "        print(f\"Epoch {epoch + 1}, train loss: {train_loss:.4f}, train acc: {train_acc:.4f}, test acc: {test_acc:.4f}\")\n",
        "\n",
        "\n",
        "# Define the model\n",
        "model = ResNet20(lr=1, weight_decay=0.001)\n",
        "\n",
        "# Define the data transformation\n",
        "transform = transforms.Compose([\n",
        "    transforms.ToTensor(),\n",
        "    transforms.Normalize((0.4914, 0.4822, 0.4465), (0.2023, 0.1994, 0.2010))\n",
        "])\n",
        "\n",
        "# Load the data\n",
        "train_data = datasets.CIFAR10(root='data', train=True, transform=transform, download=True)\n",
        "test_data = datasets.CIFAR10(root='data', train=False, transform=transform, download=True)\n",
        "\n",
        "# Create the data loaders\n",
        "train_loader = torch.utils.data.DataLoader(train_data, batch_size=512, shuffle=True)\n",
        "test_loader = torch.utils.data.DataLoader(test_data, batch_size=512, shuffle=False)\n",
        "\n",
        "# Initialize the model parameters\n",
        "model.apply(d2l.init_cnn)\n",
        "\n",
        "# Train the model\n",
        "start_time = time.time()\n",
        "train_cnn(model, train_loader, test_loader, num_epochs=15, lr=0.01, wd=0.0001)\n",
        "end_time = time.time()\n",
        "\n",
        "# Calculate the total training time\n",
        "total_time = end_time - start_time\n",
        "\n",
        "# Evaluate the model on the test dataset\n",
        "test_accuracy = d2l.evaluate_accuracy_gpu(model, test_loader)\n",
        "\n",
        "# Calculate average training time of one epoch\n",
        "avg_time_epoch = total_time / 5\n",
        "\n",
        "# Print results\n",
        "print(f\"Accuracy on test dataset: {test_accuracy:.2%}\")\n",
        "print(f\"Total training time: {total_time:.2f} seconds\")\n",
        "print(f\"Average training time per epoch: {avg_time_epoch:.2f} seconds\")"
      ]
    }
  ],
  "metadata": {
    "accelerator": "GPU",
    "kernelspec": {
      "display_name": "Python 3",
      "name": "python3"
    },
    "language_info": {
      "name": "python"
    },
    "colab": {
      "provenance": [],
      "gpuType": "T4",
      "include_colab_link": true
    },
    "gpuClass": "standard"
  },
  "nbformat": 4,
  "nbformat_minor": 5
}