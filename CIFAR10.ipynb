{
  "cells": [
    {
      "cell_type": "markdown",
      "metadata": {
        "id": "view-in-github",
        "colab_type": "text"
      },
      "source": [
        "<a href=\"https://colab.research.google.com/github/kaiyiyu/MachineLearning/blob/main/CIFAR10.ipynb\" target=\"_parent\"><img src=\"https://colab.research.google.com/assets/colab-badge.svg\" alt=\"Open In Colab\"/></a>"
      ]
    },
    {
      "cell_type": "markdown",
      "id": "44f9dcf7",
      "metadata": {
        "id": "44f9dcf7"
      },
      "source": [
        "The following additional libraries are needed to run this\n",
        "notebook. Note that running on Colab is experimental, please report a Github\n",
        "issue if you have any problem."
      ]
    },
    {
      "cell_type": "code",
      "execution_count": null,
      "id": "0a37f339",
      "metadata": {
        "id": "0a37f339"
      },
      "outputs": [],
      "source": [
        "!pip install d2l==v1.0.0-alpha1.post0"
      ]
    },
    {
      "cell_type": "code",
      "execution_count": null,
      "id": "63d2c1c3",
      "metadata": {
        "execution": {
          "iopub.execute_input": "2023-02-10T05:12:37.626779Z",
          "iopub.status.busy": "2023-02-10T05:12:37.625765Z",
          "iopub.status.idle": "2023-02-10T05:12:40.781152Z",
          "shell.execute_reply": "2023-02-10T05:12:40.778614Z"
        },
        "origin_pos": 3,
        "tab": [
          "pytorch"
        ],
        "id": "63d2c1c3"
      },
      "outputs": [],
      "source": [
        "import time\n",
        "import torch\n",
        "import torchvision\n",
        "from torch import nn\n",
        "from torch.nn import functional as F\n",
        "from torchvision import datasets, transforms\n",
        "from d2l import torch as d2l"
      ]
    },
    {
      "cell_type": "code",
      "execution_count": null,
      "id": "378367c8",
      "metadata": {
        "execution": {
          "iopub.execute_input": "2023-02-10T05:12:40.790182Z",
          "iopub.status.busy": "2023-02-10T05:12:40.788722Z",
          "iopub.status.idle": "2023-02-10T05:12:40.917437Z",
          "shell.execute_reply": "2023-02-10T05:12:40.909948Z"
        },
        "origin_pos": 8,
        "tab": [
          "pytorch"
        ],
        "id": "378367c8"
      },
      "outputs": [],
      "source": [
        "class Residual(nn.Module):\n",
        "    \"\"\"The Residual block of ResNet models.\"\"\"\n",
        "    def __init__(self, num_channels, use_1x1conv=False, strides=1):\n",
        "        super().__init__()\n",
        "        self.conv1 = nn.LazyConv2d(num_channels, kernel_size=3, padding=1,\n",
        "                                   stride=strides)\n",
        "        self.conv2 = nn.LazyConv2d(num_channels, kernel_size=3, padding=1)\n",
        "        if use_1x1conv:\n",
        "            self.conv3 = nn.LazyConv2d(num_channels, kernel_size=1,\n",
        "                                       stride=strides)\n",
        "        else:\n",
        "            self.conv3 = None\n",
        "        self.bn1 = nn.LazyBatchNorm2d()\n",
        "        self.bn2 = nn.LazyBatchNorm2d()\n",
        "\n",
        "    def forward(self, X):\n",
        "        Y = F.relu(self.bn1(self.conv1(X)))\n",
        "        Y = self.bn2(self.conv2(Y))\n",
        "        if self.conv3:\n",
        "            X = self.conv3(X)\n",
        "        Y += X\n",
        "        return F.relu(Y)"
      ]
    },
    {
      "cell_type": "code",
      "execution_count": null,
      "id": "1ace4302",
      "metadata": {
        "execution": {
          "iopub.execute_input": "2023-02-10T05:12:40.926553Z",
          "iopub.status.busy": "2023-02-10T05:12:40.924047Z",
          "iopub.status.idle": "2023-02-10T05:12:41.145512Z",
          "shell.execute_reply": "2023-02-10T05:12:41.144647Z"
        },
        "origin_pos": 12,
        "tab": [
          "pytorch"
        ],
        "id": "1ace4302"
      },
      "outputs": [],
      "source": [
        "blk = Residual(3)\n",
        "X = torch.randn(4, 3, 6, 6)\n",
        "blk(X).shape"
      ]
    },
    {
      "cell_type": "code",
      "execution_count": null,
      "id": "ced4362f",
      "metadata": {
        "execution": {
          "iopub.execute_input": "2023-02-10T05:12:41.151276Z",
          "iopub.status.busy": "2023-02-10T05:12:41.149904Z",
          "iopub.status.idle": "2023-02-10T05:12:41.332009Z",
          "shell.execute_reply": "2023-02-10T05:12:41.331051Z"
        },
        "origin_pos": 16,
        "tab": [
          "pytorch"
        ],
        "id": "ced4362f"
      },
      "outputs": [],
      "source": [
        "blk = Residual(6, use_1x1conv=True, strides=2)\n",
        "blk(X).shape"
      ]
    },
    {
      "cell_type": "code",
      "execution_count": null,
      "id": "dead4c6e",
      "metadata": {
        "execution": {
          "iopub.execute_input": "2023-02-10T05:12:41.336576Z",
          "iopub.status.busy": "2023-02-10T05:12:41.335821Z",
          "iopub.status.idle": "2023-02-10T05:12:41.351009Z",
          "shell.execute_reply": "2023-02-10T05:12:41.342826Z"
        },
        "origin_pos": 19,
        "tab": [
          "pytorch"
        ],
        "id": "dead4c6e"
      },
      "outputs": [],
      "source": [
        "class ResNet(d2l.Classifier):\n",
        "    def b1(self):\n",
        "        return nn.Sequential(\n",
        "            nn.LazyConv2d(16, kernel_size=3, stride=1, padding=1),\n",
        "            nn.LazyBatchNorm2d(),\n",
        "            nn.ReLU(),\n",
        "            nn.LazyConv2d(16, kernel_size=3, stride=1, padding=1),\n",
        "            nn.LazyBatchNorm2d(),\n",
        "            nn.ReLU(),\n",
        "            nn.MaxPool2d(kernel_size=3, stride=2, padding=1))"
      ]
    },
    {
      "cell_type": "code",
      "execution_count": null,
      "id": "d80c1cbf",
      "metadata": {
        "execution": {
          "iopub.execute_input": "2023-02-10T05:12:41.355208Z",
          "iopub.status.busy": "2023-02-10T05:12:41.354473Z",
          "iopub.status.idle": "2023-02-10T05:12:41.366541Z",
          "shell.execute_reply": "2023-02-10T05:12:41.361835Z"
        },
        "origin_pos": 23,
        "tab": [
          "pytorch"
        ],
        "id": "d80c1cbf"
      },
      "outputs": [],
      "source": [
        "@d2l.add_to_class(ResNet)\n",
        "def block(self, num_residuals, num_channels, first_block=False):\n",
        "    blk = []\n",
        "    for i in range(num_residuals):\n",
        "        if i == 0 and not first_block:\n",
        "            blk.append(Residual(num_channels, use_1x1conv=True, strides=2))\n",
        "        else:\n",
        "            blk.append(Residual(num_channels))\n",
        "    return nn.Sequential(*blk)"
      ]
    },
    {
      "cell_type": "code",
      "execution_count": null,
      "id": "c336f6c5",
      "metadata": {
        "execution": {
          "iopub.execute_input": "2023-02-10T05:12:41.372691Z",
          "iopub.status.busy": "2023-02-10T05:12:41.371976Z",
          "iopub.status.idle": "2023-02-10T05:12:41.384755Z",
          "shell.execute_reply": "2023-02-10T05:12:41.381751Z"
        },
        "origin_pos": 27,
        "tab": [
          "pytorch"
        ],
        "id": "c336f6c5"
      },
      "outputs": [],
      "source": [
        "@d2l.add_to_class(ResNet)\n",
        "def __init__(self, arch, lr=0.1, weight_decay=0.0001, num_classes=10):\n",
        "    super(ResNet, self).__init__()\n",
        "    self.save_hyperparameters()\n",
        "    self.net = nn.Sequential(self.b1())\n",
        "    for i, b in enumerate(arch):\n",
        "        self.net.add_module(f'b{i+2}', self.block(*b, first_block=(i==0)))\n",
        "    self.net.add_module('last', nn.Sequential(\n",
        "        nn.AdaptiveAvgPool2d((1, 1)),\n",
        "        nn.Flatten(),\n",
        "        nn.LazyLinear(num_classes)))\n",
        "    self.net.apply(d2l.init_cnn)"
      ]
    },
    {
      "cell_type": "code",
      "execution_count": null,
      "id": "836499a8",
      "metadata": {
        "execution": {
          "iopub.execute_input": "2023-02-10T05:12:41.391684Z",
          "iopub.status.busy": "2023-02-10T05:12:41.391136Z",
          "iopub.status.idle": "2023-02-10T05:12:41.402467Z",
          "shell.execute_reply": "2023-02-10T05:12:41.401486Z"
        },
        "origin_pos": 30,
        "tab": [
          "pytorch"
        ],
        "id": "836499a8"
      },
      "outputs": [],
      "source": [
        "class ResNet20(ResNet):\n",
        "    def __init__(self, lr=0.1, weight_decay=0.0001, num_classes=10):\n",
        "        super().__init__(((3, 16), (3, 32), (3, 64)), lr, weight_decay, num_classes)"
      ]
    },
    {
      "cell_type": "code",
      "execution_count": null,
      "id": "0d076ac0",
      "metadata": {
        "execution": {
          "iopub.execute_input": "2023-02-10T05:12:41.408609Z",
          "iopub.status.busy": "2023-02-10T05:12:41.408303Z",
          "iopub.status.idle": "2023-02-10T05:12:43.111512Z",
          "shell.execute_reply": "2023-02-10T05:12:43.109380Z"
        },
        "origin_pos": 32,
        "tab": [
          "pytorch"
        ],
        "id": "0d076ac0"
      },
      "outputs": [],
      "source": [
        "ResNet20().layer_summary((1, 1, 96, 96))"
      ]
    },
    {
      "cell_type": "code",
      "execution_count": null,
      "id": "f455808e",
      "metadata": {
        "execution": {
          "iopub.execute_input": "2023-02-10T05:12:43.118784Z",
          "iopub.status.busy": "2023-02-10T05:12:43.116034Z",
          "iopub.status.idle": "2023-02-10T05:16:06.397001Z",
          "shell.execute_reply": "2023-02-10T05:16:06.395854Z"
        },
        "origin_pos": 36,
        "tab": [
          "pytorch"
        ],
        "id": "f455808e"
      },
      "outputs": [],
      "source": [
        "def train_cnn(model, train_loader, test_loader, num_epochs, lr=0.1, wd=0.0):\n",
        "    device = torch.device('cuda' if torch.cuda.is_available() else 'gpu')\n",
        "    model.to(device)\n",
        "    optimizer = torch.optim.Adam(model.parameters(), lr=lr)\n",
        "    for epoch in range(num_epochs):\n",
        "        train_loss, train_acc, n = 0.0, 0.0, 0\n",
        "        model.train()\n",
        "        for X, y in train_loader:\n",
        "            X, y = X.to(device), y.to(device)\n",
        "            optimizer.zero_grad()\n",
        "            y_hat = model(X)\n",
        "            loss = F.cross_entropy(y_hat, y)\n",
        "            loss.backward()\n",
        "            optimizer.step()\n",
        "            train_loss += loss.item() * y.size(0)\n",
        "            train_acc += (y_hat.argmax(dim=1) == y).sum().item()\n",
        "            n += y.size(0)\n",
        "        train_loss /= n\n",
        "        train_acc /= n\n",
        "        test_acc = d2l.evaluate_accuracy_gpu(model, test_loader)\n",
        "        print(f\"Epoch {epoch + 1}, train loss: {train_loss:.4f}, train acc: {train_acc:.4f}, test acc: {test_acc:.4f}\")\n",
        "\n",
        "\n",
        "# Define the model\n",
        "model = ResNet20(lr=1, weight_decay=0.001)\n",
        "\n",
        "# Define the data transformation\n",
        "transform = transforms.Compose([\n",
        "    transforms.ToTensor(),\n",
        "    transforms.Normalize((0.4914, 0.4822, 0.4465), (0.2023, 0.1994, 0.2010))\n",
        "])\n",
        "\n",
        "# Load the data\n",
        "train_data = datasets.CIFAR10(root='data', train=True, transform=transform, download=True)\n",
        "test_data = datasets.CIFAR10(root='data', train=False, transform=transform, download=True)\n",
        "\n",
        "# Create the data loaders\n",
        "train_loader = torch.utils.data.DataLoader(train_data, batch_size=512, shuffle=True)\n",
        "test_loader = torch.utils.data.DataLoader(test_data, batch_size=512, shuffle=False)\n",
        "\n",
        "# Initialize the model parameters\n",
        "model.apply(d2l.init_cnn)\n",
        "\n",
        "# Train the model\n",
        "start_time = time.time()\n",
        "train_cnn(model, train_loader, test_loader, num_epochs=15, lr=0.01, wd=0.0001)\n",
        "end_time = time.time()\n",
        "\n",
        "# Calculate the total training time\n",
        "total_time = end_time - start_time\n",
        "\n",
        "# Evaluate the model on the test dataset\n",
        "test_accuracy = d2l.evaluate_accuracy_gpu(model, test_loader)\n",
        "\n",
        "# Calculate average training time of one epoch\n",
        "avg_time_epoch = total_time / 5\n",
        "\n",
        "# Print results\n",
        "print(f\"Accuracy on test dataset: {test_accuracy:.2%}\")\n",
        "print(f\"Total training time: {total_time:.2f} seconds\")\n",
        "print(f\"Average training time per epoch: {avg_time_epoch:.2f} seconds\")"
      ]
    }
  ],
  "metadata": {
    "accelerator": "GPU",
    "kernelspec": {
      "display_name": "Python 3",
      "name": "python3"
    },
    "language_info": {
      "name": "python"
    },
    "colab": {
      "provenance": [],
      "gpuType": "T4",
      "include_colab_link": true
    },
    "gpuClass": "standard"
  },
  "nbformat": 4,
  "nbformat_minor": 5
}